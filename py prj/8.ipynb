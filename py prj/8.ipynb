{
 "cells": [
  {
   "cell_type": "code",
   "execution_count": 3,
   "id": "ee4ac9b3-f7cf-4242-b53a-092abc61f828",
   "metadata": {},
   "outputs": [
    {
     "name": "stdin",
     "output_type": "stream",
     "text": [
      "Enter a word or string:  python\n"
     ]
    },
    {
     "name": "stdout",
     "output_type": "stream",
     "text": [
      "p\n",
      "py\n",
      "pyt\n",
      "pyth\n",
      "pytho\n",
      "python\n"
     ]
    }
   ],
   "source": [
    "def print_character_grid(word):\n",
    "    length = len(word)\n",
    "    for i in range(1, length + 1):\n",
    "        # Print first i characters of the word in a row\n",
    "        print(word[:i])\n",
    "\n",
    "if __name__ == \"__main__\":\n",
    "    input_word = input(\"Enter a word or string: \")\n",
    "    print_character_grid(input_word)\n"
   ]
  },
  {
   "cell_type": "code",
   "execution_count": null,
   "id": "5e9481a3-c1a4-43df-b98a-e75edcaa417a",
   "metadata": {},
   "outputs": [],
   "source": []
  }
 ],
 "metadata": {
  "kernelspec": {
   "display_name": "Python [conda env:base] *",
   "language": "python",
   "name": "conda-base-py"
  },
  "language_info": {
   "codemirror_mode": {
    "name": "ipython",
    "version": 3
   },
   "file_extension": ".py",
   "mimetype": "text/x-python",
   "name": "python",
   "nbconvert_exporter": "python",
   "pygments_lexer": "ipython3",
   "version": "3.12.7"
  }
 },
 "nbformat": 4,
 "nbformat_minor": 5
}

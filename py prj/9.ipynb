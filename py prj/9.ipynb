{
 "cells": [
  {
   "cell_type": "code",
   "execution_count": 25,
   "id": "76d0a977-0d4e-4db0-8f26-13f90e398c0a",
   "metadata": {},
   "outputs": [
    {
     "name": "stdout",
     "output_type": "stream",
     "text": [
      "Collecting python-chess\n",
      "  Downloading python_chess-1.999-py3-none-any.whl.metadata (776 bytes)\n",
      "Collecting chess<2,>=1 (from python-chess)\n",
      "  Downloading chess-1.11.2.tar.gz (6.1 MB)\n",
      "     ---------------------------------------- 0.0/6.1 MB ? eta -:--:--\n",
      "     ---------------------------------------- 6.1/6.1 MB 41.6 MB/s eta 0:00:00\n",
      "  Preparing metadata (setup.py): started\n",
      "  Preparing metadata (setup.py): finished with status 'done'\n",
      "Downloading python_chess-1.999-py3-none-any.whl (1.4 kB)\n",
      "Building wheels for collected packages: chess\n",
      "  Building wheel for chess (setup.py): started\n",
      "  Building wheel for chess (setup.py): finished with status 'done'\n",
      "  Created wheel for chess: filename=chess-1.11.2-py3-none-any.whl size=147814 sha256=6a7c6af0cbde0b6c89108264927997e740c9d9c0c88bb85772865da0709e3080\n",
      "  Stored in directory: c:\\users\\deepa\\appdata\\local\\pip\\cache\\wheels\\83\\1f\\4e\\8f4300f7dd554eb8de70ddfed96e94d3d030ace10c5b53d447\n",
      "Successfully built chess\n",
      "Installing collected packages: chess, python-chess\n",
      "Successfully installed chess-1.11.2 python-chess-1.999\n",
      "Note: you may need to restart the kernel to use updated packages.\n"
     ]
    }
   ],
   "source": [
    "pip install python-chess\n"
   ]
  },
  {
   "cell_type": "code",
   "execution_count": 27,
   "id": "936f844e-b455-455b-9f3f-6ceec8d6a4cc",
   "metadata": {},
   "outputs": [
    {
     "name": "stdout",
     "output_type": "stream",
     "text": [
      "Starting position FEN: rnbqkbnr/pppppppp/8/8/8/8/PPPPPPPP/RNBQKBNR w KQkq - 0 1\n"
     ]
    },
    {
     "name": "stdin",
     "output_type": "stream",
     "text": [
      "Enter your move in UCI format (e.g. e2e4):  e3e4\n"
     ]
    },
    {
     "name": "stdout",
     "output_type": "stream",
     "text": [
      "The move e3e4 is NOT legal in the given position.\n"
     ]
    }
   ],
   "source": [
    "import chess\n",
    "\n",
    "def validate_move(fen, move_uci):\n",
    "    \"\"\"\n",
    "    Validate a chess move in UCI notation on a given board position (FEN).\n",
    "    Returns True if move is legal, False otherwise.\n",
    "    \"\"\"\n",
    "    board = chess.Board(fen)\n",
    "    try:\n",
    "        move = chess.Move.from_uci(move_uci)\n",
    "    except ValueError:\n",
    "        return False  # Invalid UCI format\n",
    "\n",
    "    return move in board.legal_moves\n",
    "\n",
    "if __name__ == \"__main__\":\n",
    "    # Example usage:\n",
    "    # Starting position FEN\n",
    "    fen = chess.STARTING_FEN\n",
    "    print(\"Starting position FEN:\", fen)\n",
    "    move_input = input(\"Enter your move in UCI format (e.g. e2e4): \").strip()\n",
    "\n",
    "    if validate_move(fen, move_input):\n",
    "        print(f\"The move {move_input} is legal in the given position.\")\n",
    "    else:\n",
    "        print(f\"The move {move_input} is NOT legal in the given position.\")\n"
   ]
  },
  {
   "cell_type": "code",
   "execution_count": null,
   "id": "9ec54c25-8e53-421c-b2d7-196b04160692",
   "metadata": {},
   "outputs": [],
   "source": []
  }
 ],
 "metadata": {
  "kernelspec": {
   "display_name": "Python [conda env:base] *",
   "language": "python",
   "name": "conda-base-py"
  },
  "language_info": {
   "codemirror_mode": {
    "name": "ipython",
    "version": 3
   },
   "file_extension": ".py",
   "mimetype": "text/x-python",
   "name": "python",
   "nbconvert_exporter": "python",
   "pygments_lexer": "ipython3",
   "version": "3.12.7"
  }
 },
 "nbformat": 4,
 "nbformat_minor": 5
}

{
 "cells": [
  {
   "cell_type": "code",
   "execution_count": 1,
   "id": "6d740cb2-1075-490a-ac11-baf669311cac",
   "metadata": {},
   "outputs": [
    {
     "name": "stdout",
     "output_type": "stream",
     "text": [
      "Converted string: PAHNAPLSIIGYIR\n"
     ]
    }
   ],
   "source": [
    "def convert(s: str, num_rows: int) -> str:\n",
    "    if num_rows == 1 or num_rows >= len(s):\n",
    "        return s\n",
    "\n",
    "    rows = [''] * num_rows\n",
    "    step = -1\n",
    "    curr_row = 0\n",
    "\n",
    "    for char in s:\n",
    "        rows[curr_row] += char\n",
    "        if curr_row == 0 or curr_row == num_rows - 1:\n",
    "            step = -step\n",
    "        curr_row += step\n",
    "\n",
    "    return ''.join(rows)\n",
    "\n",
    "\n",
    "if __name__ == \"__main__\":\n",
    "    input_string = \"PAYPALISHIRING\"\n",
    "    num_rows = 3\n",
    "    result = convert(input_string, num_rows)\n",
    "    print(f\"Converted string: {result}\")  # Output: PAHNAPLSIIGYIR\n"
   ]
  },
  {
   "cell_type": "code",
   "execution_count": null,
   "id": "bfaf76f3-c31f-44f3-b7aa-ae0b750b6bbe",
   "metadata": {},
   "outputs": [],
   "source": []
  }
 ],
 "metadata": {
  "kernelspec": {
   "display_name": "Python [conda env:base] *",
   "language": "python",
   "name": "conda-base-py"
  },
  "language_info": {
   "codemirror_mode": {
    "name": "ipython",
    "version": 3
   },
   "file_extension": ".py",
   "mimetype": "text/x-python",
   "name": "python",
   "nbconvert_exporter": "python",
   "pygments_lexer": "ipython3",
   "version": "3.12.7"
  }
 },
 "nbformat": 4,
 "nbformat_minor": 5
}

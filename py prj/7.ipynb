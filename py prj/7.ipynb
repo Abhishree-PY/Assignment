{
 "cells": [
  {
   "cell_type": "code",
   "execution_count": 1,
   "id": "af44cb5d-e077-4d68-815c-827d62221909",
   "metadata": {},
   "outputs": [
    {
     "name": "stdin",
     "output_type": "stream",
     "text": [
      "Enter number of coin flips:  7\n"
     ]
    },
    {
     "name": "stdout",
     "output_type": "stream",
     "text": [
      "Flips sequence:\n",
      "Heads Tails Tails Heads Tails Heads Tails\n",
      "Longest streak of same outcome: 2\n"
     ]
    }
   ],
   "source": [
    "import random\n",
    "\n",
    "def flip_coin():\n",
    "    return random.choice(['Heads', 'Tails'])\n",
    "\n",
    "def longest_streak(flips):\n",
    "    max_streak = 1\n",
    "    current_streak = 1\n",
    "    for i in range(1, len(flips)):\n",
    "        if flips[i] == flips[i-1]:\n",
    "            current_streak += 1\n",
    "        else:\n",
    "            max_streak = max(max_streak, current_streak)\n",
    "            current_streak = 1\n",
    "    max_streak = max(max_streak, current_streak)\n",
    "    return max_streak\n",
    "\n",
    "def main():\n",
    "    num_flips = int(input(\"Enter number of coin flips: \"))\n",
    "    flips = []\n",
    "\n",
    "    for _ in range(num_flips):\n",
    "        flips.append(flip_coin())\n",
    "\n",
    "    print(\"Flips sequence:\")\n",
    "    print(' '.join(flips))\n",
    "\n",
    "    streak = longest_streak(flips)\n",
    "    print(f\"Longest streak of same outcome: {streak}\")\n",
    "\n",
    "if __name__ == \"__main__\":\n",
    "    main()\n"
   ]
  },
  {
   "cell_type": "code",
   "execution_count": null,
   "id": "cc3e7d02-d21a-4502-86c8-d2640a7a99cc",
   "metadata": {},
   "outputs": [],
   "source": []
  }
 ],
 "metadata": {
  "kernelspec": {
   "display_name": "Python [conda env:base] *",
   "language": "python",
   "name": "conda-base-py"
  },
  "language_info": {
   "codemirror_mode": {
    "name": "ipython",
    "version": 3
   },
   "file_extension": ".py",
   "mimetype": "text/x-python",
   "name": "python",
   "nbconvert_exporter": "python",
   "pygments_lexer": "ipython3",
   "version": "3.12.7"
  }
 },
 "nbformat": 4,
 "nbformat_minor": 5
}

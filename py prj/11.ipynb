{
 "cells": [
  {
   "cell_type": "code",
   "execution_count": 1,
   "id": "802daa5c-2faa-4224-960e-fa44c8c52f92",
   "metadata": {},
   "outputs": [
    {
     "name": "stdout",
     "output_type": "stream",
     "text": [
      "Name    | Age | City       \n",
      "--------+-----+------------\n",
      "Alice   | 30  | New York   \n",
      "Bob     | 25  | Los Angeles\n",
      "Charlie | 35  | Chicago    \n"
     ]
    }
   ],
   "source": [
    "def print_table(data, headers=None):\n",
    "    \"\"\"\n",
    "    Prints a nicely formatted table.\n",
    "    \n",
    "    :param data: List of lists, where each inner list is a row.\n",
    "    :param headers: Optional list of column headers.\n",
    "    \"\"\"\n",
    "    if headers:\n",
    "        data = [headers] + data\n",
    "\n",
    "    # Calculate column widths\n",
    "    cols = len(data[0])\n",
    "    col_widths = [0] * cols\n",
    "    for row in data:\n",
    "        for i, item in enumerate(row):\n",
    "            col_widths[i] = max(col_widths[i], len(str(item)))\n",
    "\n",
    "    # Print rows with padding\n",
    "    for i, row in enumerate(data):\n",
    "        line = \" | \".join(str(item).ljust(col_widths[j]) for j, item in enumerate(row))\n",
    "        print(line)\n",
    "        # Print separator after header row\n",
    "        if headers and i == 0:\n",
    "            print(\"-+-\".join('-' * col_widths[j] for j in range(cols)))\n",
    "\n",
    "if __name__ == \"__main__\":\n",
    "    headers = [\"Name\", \"Age\", \"City\"]\n",
    "    rows = [\n",
    "        [\"Alice\", \"30\", \"New York\"],\n",
    "        [\"Bob\", \"25\", \"Los Angeles\"],\n",
    "        [\"Charlie\", \"35\", \"Chicago\"]\n",
    "    ]\n",
    "    print_table(rows, headers)\n"
   ]
  },
  {
   "cell_type": "code",
   "execution_count": null,
   "id": "37922959-e3bb-4420-b9a7-f2a5d725e203",
   "metadata": {},
   "outputs": [],
   "source": []
  }
 ],
 "metadata": {
  "kernelspec": {
   "display_name": "Python [conda env:base] *",
   "language": "python",
   "name": "conda-base-py"
  },
  "language_info": {
   "codemirror_mode": {
    "name": "ipython",
    "version": 3
   },
   "file_extension": ".py",
   "mimetype": "text/x-python",
   "name": "python",
   "nbconvert_exporter": "python",
   "pygments_lexer": "ipython3",
   "version": "3.12.7"
  }
 },
 "nbformat": 4,
 "nbformat_minor": 5
}

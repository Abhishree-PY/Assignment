{
 "cells": [
  {
   "cell_type": "code",
   "execution_count": null,
   "id": "d8b92689-ac6c-4f93-b01d-bcafae54853a",
   "metadata": {},
   "outputs": [
    {
     "name": "stdout",
     "output_type": "stream",
     "text": [
      "Welcome to Rock, Paper, Scissors!\n"
     ]
    },
    {
     "name": "stdin",
     "output_type": "stream",
     "text": [
      "Enter your choice (rock, paper, scissors):  rock\n"
     ]
    },
    {
     "name": "stdout",
     "output_type": "stream",
     "text": [
      "\n",
      "You chose: rock\n",
      "Computer chose: scissors\n",
      "You win!\n"
     ]
    },
    {
     "name": "stdin",
     "output_type": "stream",
     "text": [
      "\n",
      "Do you want to play again? (yes/no):  yes\n",
      "Enter your choice (rock, paper, scissors):  paper\n"
     ]
    },
    {
     "name": "stdout",
     "output_type": "stream",
     "text": [
      "\n",
      "You chose: paper\n",
      "Computer chose: scissors\n",
      "Computer wins!\n"
     ]
    }
   ],
   "source": [
    "import random\n",
    "\n",
    "def get_computer_choice():\n",
    "    return random.choice(['rock', 'paper', 'scissors'])\n",
    "\n",
    "def get_user_choice():\n",
    "    while True:\n",
    "        choice = input(\"Enter your choice (rock, paper, scissors): \").strip().lower()\n",
    "        if choice in ['rock', 'paper', 'scissors']:\n",
    "            return choice\n",
    "        else:\n",
    "            print(\"Invalid choice. Please enter rock, paper, or scissors.\")\n",
    "\n",
    "def determine_winner(user, computer):\n",
    "    if user == computer:\n",
    "        return \"It's a tie!\"\n",
    "    elif (user == 'rock' and computer == 'scissors') or \\\n",
    "         (user == 'paper' and computer == 'rock') or \\\n",
    "         (user == 'scissors' and computer == 'paper'):\n",
    "        return \"You win!\"\n",
    "    else:\n",
    "        return \"Computer wins!\"\n",
    "\n",
    "def play():\n",
    "    print(\"Welcome to Rock, Paper, Scissors!\")\n",
    "    while True:\n",
    "        user_choice = get_user_choice()\n",
    "        computer_choice = get_computer_choice()\n",
    "        print(f\"\\nYou chose: {user_choice}\")\n",
    "        print(f\"Computer chose: {computer_choice}\")\n",
    "        \n",
    "        result = determine_winner(user_choice, computer_choice)\n",
    "        print(result)\n",
    "        \n",
    "        play_again = input(\"\\nDo you want to play again? (yes/no): \").strip().lower()\n",
    "        if play_again not in ['yes', 'y']:\n",
    "            print(\"Thanks for playing! Goodbye.\")\n",
    "            break\n",
    "\n",
    "if __name__ == \"__main__\":\n",
    "    play()\n"
   ]
  },
  {
   "cell_type": "code",
   "execution_count": null,
   "id": "d894969f-7707-4ae8-8978-768830f372c9",
   "metadata": {},
   "outputs": [],
   "source": []
  }
 ],
 "metadata": {
  "kernelspec": {
   "display_name": "Python [conda env:base] *",
   "language": "python",
   "name": "conda-base-py"
  },
  "language_info": {
   "codemirror_mode": {
    "name": "ipython",
    "version": 3
   },
   "file_extension": ".py",
   "mimetype": "text/x-python",
   "name": "python",
   "nbconvert_exporter": "python",
   "pygments_lexer": "ipython3",
   "version": "3.12.7"
  }
 },
 "nbformat": 4,
 "nbformat_minor": 5
}

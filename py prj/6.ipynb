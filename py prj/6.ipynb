{
 "cells": [
  {
   "cell_type": "code",
   "execution_count": 1,
   "id": "3e22f4fb-e564-492e-aa34-c12611443e89",
   "metadata": {},
   "outputs": [
    {
     "name": "stdout",
     "output_type": "stream",
     "text": [
      "Original list: ['apple', 'banana,fruit', 'orange', 'grape\\\\vine']\n",
      "Encoded string: apple,banana\\,fruit,orange,grape\\vine\n",
      "Decoded list: ['apple', 'banana,fruit', 'orange', 'grape\\\\vine']\n",
      "Decoding matches original: True\n"
     ]
    },
    {
     "name": "stderr",
     "output_type": "stream",
     "text": [
      "<>:2: SyntaxWarning: invalid escape sequence '\\,'\n",
      "<>:10: SyntaxWarning: invalid escape sequence '\\,'\n",
      "<>:2: SyntaxWarning: invalid escape sequence '\\,'\n",
      "<>:10: SyntaxWarning: invalid escape sequence '\\,'\n",
      "C:\\Users\\deepa\\AppData\\Local\\Temp\\ipykernel_24668\\3907168935.py:2: SyntaxWarning: invalid escape sequence '\\,'\n",
      "  \"\"\"\n",
      "C:\\Users\\deepa\\AppData\\Local\\Temp\\ipykernel_24668\\3907168935.py:10: SyntaxWarning: invalid escape sequence '\\,'\n",
      "  \"\"\"\n"
     ]
    }
   ],
   "source": [
    "def encode(items):\n",
    "    \"\"\"\n",
    "    Encodes a list of strings into a single comma-separated string.\n",
    "    Escapes commas in items by replacing them with '\\,'.\n",
    "    \"\"\"\n",
    "    escaped_items = [item.replace(',', r'\\,') for item in items]\n",
    "    return ','.join(escaped_items)\n",
    "\n",
    "def decode(encoded_str):\n",
    "    \"\"\"\n",
    "    Decodes a comma-separated string back into a list of strings.\n",
    "    Handles escaped commas '\\,' correctly.\n",
    "    \"\"\"\n",
    "    items = []\n",
    "    current = []\n",
    "    escape = False\n",
    "\n",
    "    for char in encoded_str:\n",
    "        if escape:\n",
    "            if char == ',':\n",
    "                current.append(',')\n",
    "            else:\n",
    "                current.append('\\\\' + char)\n",
    "            escape = False\n",
    "        elif char == '\\\\':\n",
    "            escape = True\n",
    "        elif char == ',':\n",
    "            items.append(''.join(current))\n",
    "            current = []\n",
    "        else:\n",
    "            current.append(char)\n",
    "    items.append(''.join(current))\n",
    "    return items\n",
    "\n",
    "if __name__ == \"__main__\":\n",
    "    # Example usage\n",
    "    original_list = [\"apple\", \"banana,fruit\", \"orange\", \"grape\\\\vine\"]\n",
    "    print(\"Original list:\", original_list)\n",
    "\n",
    "    encoded = encode(original_list)\n",
    "    print(\"Encoded string:\", encoded)\n",
    "\n",
    "    decoded = decode(encoded)\n",
    "    print(\"Decoded list:\", decoded)\n",
    "\n",
    "    # Check if decoding matches original\n",
    "    print(\"Decoding matches original:\", decoded == original_list)\n"
   ]
  },
  {
   "cell_type": "code",
   "execution_count": null,
   "id": "b31aac06-36b5-453d-ab34-edd748a64a87",
   "metadata": {},
   "outputs": [],
   "source": []
  }
 ],
 "metadata": {
  "kernelspec": {
   "display_name": "Python [conda env:base] *",
   "language": "python",
   "name": "conda-base-py"
  },
  "language_info": {
   "codemirror_mode": {
    "name": "ipython",
    "version": 3
   },
   "file_extension": ".py",
   "mimetype": "text/x-python",
   "name": "python",
   "nbconvert_exporter": "python",
   "pygments_lexer": "ipython3",
   "version": "3.12.7"
  }
 },
 "nbformat": 4,
 "nbformat_minor": 5
}

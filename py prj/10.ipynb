{
 "cells": [
  {
   "cell_type": "code",
   "execution_count": 1,
   "id": "d635cacc-4a7a-422a-a71e-13521bd5cfc4",
   "metadata": {},
   "outputs": [
    {
     "name": "stdout",
     "output_type": "stream",
     "text": [
      "Inventory:\n",
      "45 gold coin\n",
      "1 rope\n",
      "1 dagger\n",
      "1 ruby\n",
      "Total number of items: 48\n"
     ]
    }
   ],
   "source": [
    "def display_inventory(inventory):\n",
    "    print(\"Inventory:\")\n",
    "    total_items = 0\n",
    "    for item, count in inventory.items():\n",
    "        print(f\"{count} {item}\")\n",
    "        total_items += count\n",
    "    print(f\"Total number of items: {total_items}\")\n",
    "\n",
    "def add_to_inventory(inventory, added_items):\n",
    "    for item in added_items:\n",
    "        inventory[item] = inventory.get(item, 0) + 1\n",
    "    return inventory\n",
    "\n",
    "if __name__ == \"__main__\":\n",
    "    # Starting inventory\n",
    "    inventory = {'gold coin': 42, 'rope': 1}\n",
    "    \n",
    "    # Loot found\n",
    "    dragon_loot = ['gold coin', 'dagger', 'gold coin', 'gold coin', 'ruby']\n",
    "    \n",
    "    # Update inventory with loot\n",
    "    inventory = add_to_inventory(inventory, dragon_loot)\n",
    "    \n",
    "    # Display updated inventory\n",
    "    display_inventory(inventory)\n"
   ]
  },
  {
   "cell_type": "code",
   "execution_count": null,
   "id": "cc2924f3-676b-4a2a-883c-e983ad511820",
   "metadata": {},
   "outputs": [],
   "source": []
  }
 ],
 "metadata": {
  "kernelspec": {
   "display_name": "Python [conda env:base] *",
   "language": "python",
   "name": "conda-base-py"
  },
  "language_info": {
   "codemirror_mode": {
    "name": "ipython",
    "version": 3
   },
   "file_extension": ".py",
   "mimetype": "text/x-python",
   "name": "python",
   "nbconvert_exporter": "python",
   "pygments_lexer": "ipython3",
   "version": "3.12.7"
  }
 },
 "nbformat": 4,
 "nbformat_minor": 5
}
